{
 "cells": [
  {
   "cell_type": "markdown",
   "metadata": {},
   "source": [
    "## CPMSC 448 Homework 2\n",
    "### Problem 4\n",
    "\n",
    "#### Name: Shubhangam Dutta\n",
    "#### PSU id: 973734692\n",
    "\n",
    "\n",
    "In this problem will use the Pima Indians Diabetes dataset from the UCI repository to experiment with the $k$-NN algorithm and find the optimal value for the number of neighbors  $k$. You do not need to implement the algorithm and encouraged to use the implementation in \\texttt{scikit-learn}.\n"
   ]
  },
  {
   "cell_type": "markdown",
   "metadata": {},
   "source": [
    "### a) \n",
    "Download the provided `Pima.csv` data file and load it using `pandas`. As a sanity check, make sure  there are 768 rows of data (potential diabetes patients) and 9 columns (8 input features including  `Pregnancies`, `Glucose`, `BloodPressure`, `SkinThickness`, `Insulin`, `BMI`, `DiabetesPedigreeFunction`, `Age`, and 1 target output). Note that the data file has no header and you might want to explicitly create the header. The last value in each row contains the target label for that row, and the remaining values are the features. Report the statics of each feature (min, max, average) and the histogram of the labels (target outputs).\n",
    "    "
   ]
  },
  {
   "cell_type": "code",
   "execution_count": 16,
   "metadata": {},
   "outputs": [
    {
     "name": "stdout",
     "output_type": "stream",
     "text": [
      "Pregnancies Mean 3.8450520833333335 Min 0 Max 17 Standard Dev. 3.3695780626988623\n",
      "Glucose Mean 120.89453125 Min 0 Max 199 Standard Dev. 31.97261819513622\n",
      "BloodPressure Mean 69.10546875 Min 0 Max 122 Standard Dev. 19.355807170644777\n",
      "SkinThickness Mean 20.536458333333332 Min 0 Max 99 Standard Dev. 15.952217567727677\n",
      "Insulin Mean 79.79947916666667 Min 0 Max 846 Standard Dev. 115.24400235133837\n",
      "BMI Mean 31.992578124999977 Min 0.0 Max 67.1 Standard Dev. 7.8841603203754405\n",
      "DiabetesPedigreeFunction Mean 0.4718763020833327 Min 0.078 Max 2.42 Standard Dev. 0.33132859501277484\n",
      "Age Mean 33.240885416666664 Min 21 Max 81 Standard Dev. 11.76023154067868\n"
     ]
    },
    {
     "data": {
      "text/plain": [
       "array([[<matplotlib.axes._subplots.AxesSubplot object at 0x0000028179AEBE10>]],\n",
       "      dtype=object)"
      ]
     },
     "execution_count": 16,
     "metadata": {},
     "output_type": "execute_result"
    },
    {
     "data": {
      "image/png": "[encoded data removed]",
      "text/plain": [
       "<matplotlib.figure.Figure at 0x28179aeb7f0>"
      ]
     },
     "metadata": {},
     "output_type": "display_data"
    }
   ],
   "source": [
    "import pandas as pd \n",
    "import numpy as np\n",
    "\n",
    "data = pd.read_csv(\"Pima.csv\") \n",
    "\n",
    "import matplotlib.pyplot as plt\n",
    "\n",
    "\n",
    "mean1 = data['Pregnancies'].mean()\n",
    "mean2 = data['Glucose'].mean()\n",
    "mean3 = data['BloodPressure'].mean()\n",
    "mean4 = data['SkinThickness'].mean()\n",
    "mean5 = data['Insulin'].mean()\n",
    "mean6 = data['BMI'].mean()\n",
    "mean7 = data['DiabetesPedigreeFunction'].mean()\n",
    "mean8 = data['Age'].mean()\n",
    "\n",
    "\n",
    "min1 = data['Pregnancies'].min()\n",
    "min2 = data['Glucose'].min()\n",
    "min3 = data['BloodPressure'].min()\n",
    "min4 = data['SkinThickness'].min()\n",
    "min5 = data['Insulin'].min()\n",
    "min6 = data['BMI'].min()\n",
    "min7 = data['DiabetesPedigreeFunction'].min()\n",
    "min8 = data['Age'].min()\n",
    "\n",
    "max1 = data['Pregnancies'].max()\n",
    "max2 = data['Glucose'].max()\n",
    "max3 = data['BloodPressure'].max()\n",
    "max4 = data['SkinThickness'].max()\n",
    "max5 = data['Insulin'].max()\n",
    "max6 = data['BMI'].max()\n",
    "max7 = data['DiabetesPedigreeFunction'].max()\n",
    "max8 = data['Age'].max()\n",
    "\n",
    "\n",
    "s1 = data['Pregnancies'].std()\n",
    "s2 = data['Glucose'].std()\n",
    "s3 = data['BloodPressure'].std()\n",
    "s4 = data['SkinThickness'].std()\n",
    "s5 = data['Insulin'].std()\n",
    "s6 = data['BMI'].std()\n",
    "s7 = data['DiabetesPedigreeFunction'].std()\n",
    "s8 = data['Age'].std()\n",
    "\n",
    "\n",
    "\n",
    "\n",
    "print('Pregnancies Mean ' + str(mean1) + ' Min ' + str(min1) + ' Max ' +str(max1)+ ' Standard Dev. '+ str(s1))\n",
    "print('Glucose Mean ' + str(mean2) + ' Min ' + str(min2) + ' Max ' +str(max2)+ ' Standard Dev. '+ str(s2))\n",
    "print('BloodPressure Mean ' + str(mean3) + ' Min ' + str(min3) + ' Max ' +str(max3)+ ' Standard Dev. '+ str(s3))\n",
    "print('SkinThickness Mean ' + str(mean4) + ' Min ' + str(min4) + ' Max ' +str(max4)+ ' Standard Dev. '+ str(s4))\n",
    "print('Insulin Mean ' + str(mean5) + ' Min ' + str(min5) + ' Max ' +str(max5)+ ' Standard Dev. '+ str(s5))\n",
    "print('BMI Mean ' + str(mean6) + ' Min ' + str(min6) + ' Max ' +str(max6)+ ' Standard Dev. '+ str(s6))\n",
    "print('DiabetesPedigreeFunction Mean ' + str(mean7) + ' Min ' + str(min7) + ' Max ' +str(max7)+ ' Standard Dev. '+ str(s7))\n",
    "print('Age Mean ' + str(mean8) + ' Min ' + str(min8) + ' Max ' +str(max8)+ ' Standard Dev. '+ str(s8))\n",
    "\n",
    "\n",
    "# matplotlib histogram\n",
    "data.hist('Output', color = 'blue', edgecolor = 'black')\n"
   ]
  },
  {
   "cell_type": "markdown",
   "metadata": {},
   "source": [
    "### b) \n",
    "Split the data into training and test data with 80\\% training and 20\\% test data sizes. \n",
    "\n",
    "Use 5-fold cross-validation on training data to decide the best number of neighbours $k$. To this end, you can use the built in functionality in  `scikit-learn` such as `cross_val_score`. For $k=1,2,3,\\ldots, 15$ compute the 5-fold cross validation error and plot the results  (with values of $k$ on the $x$-axis and accuracy on the $y$-axis). Include the plot in your report and justify your decision for picking a particular number of neighbors $k$."
   ]
  },
  {
   "cell_type": "code",
   "execution_count": 17,
   "metadata": {},
   "outputs": [
    {
     "name": "stdout",
     "output_type": "stream",
     "text": [
      "0.6596066949564261\n",
      "0.6922605151487792\n",
      "0.6726287979431884\n",
      "0.6857568800436814\n",
      "0.7052965910410028\n",
      "0.7215829797113413\n",
      "0.7149998065290013\n",
      "0.7133995864019983\n",
      "0.7117477740086761\n",
      "0.7166782749265885\n",
      "0.7183174042211072\n",
      "0.7150516137630969\n",
      "0.7117866831761919\n",
      "0.7183440602253722\n",
      "0.7134660114448844\n"
     ]
    },
    {
     "data": {
      "text/plain": [
       "[<matplotlib.lines.Line2D at 0x28179b95a90>]"
      ]
     },
     "execution_count": 17,
     "metadata": {},
     "output_type": "execute_result"
    },
    {
     "data": {
      "image/png": "[encoded data removed]",
      "text/plain": [
       "<matplotlib.figure.Figure at 0x281778655f8>"
      ]
     },
     "metadata": {},
     "output_type": "display_data"
    }
   ],
   "source": [
    "from sklearn.neighbors import KNeighborsClassifier\n",
    "from sklearn.model_selection import cross_val_score\n",
    "\n",
    "from sklearn.model_selection import train_test_split\n",
    "features = ['Pregnancies', 'Glucose', 'BloodPressure', 'SkinThickness', 'Insulin', 'BMI', 'DiabetesPedigreeFunction', 'Age']\n",
    "X = data[features]\n",
    "y = data.Output\n",
    "X_train, X_test, y_train, y_test = train_test_split(X, y,test_size=0.2,random_state=0)\n",
    "from matplotlib import pyplot as plt\n",
    "i =1\n",
    "sc=[]\n",
    "cross_val_scores = []\n",
    "x=[]\n",
    "y=[]\n",
    "while i <= 15:\n",
    "    knn = KNeighborsClassifier(n_neighbors=i) \n",
    "    scores = cross_val_score(knn, X_train, y_train, cv=5).mean()\n",
    "    sc.append( scores)\n",
    "    print(scores)\n",
    "    cross_val_scores.append(np.mean(scores)) \n",
    "    i=i+1\n",
    "o = []\n",
    "c =1\n",
    "while c<= 15:\n",
    "    o.append(c)\n",
    "    c+=1\n",
    "plt.plot(o,sc)"
   ]
  },
  {
   "cell_type": "markdown",
   "metadata": {},
   "source": [
    "### c ) \n",
    "Evaluate the $k$-NN algorithm on test data with the optimal number of neighbours you obtained in previous step and report the test error."
   ]
  },
  {
   "cell_type": "code",
   "execution_count": 18,
   "metadata": {},
   "outputs": [
    {
     "name": "stdout",
     "output_type": "stream",
     "text": [
      "0.7792207792207793\n"
     ]
    }
   ],
   "source": [
    "# As we can see the cross val score (for random state=0) is best for k= 6, we use the number of neighbors as 6.\n",
    "from sklearn.metrics import accuracy_score\n",
    "knn = KNeighborsClassifier(n_neighbors=6) \n",
    "knn.fit(X_train,y_train)\n",
    "y_pred = knn.predict(X_test)\n",
    "print(accuracy_score(y_test, y_pred))\n",
    "\n"
   ]
  },
  {
   "cell_type": "markdown",
   "metadata": {},
   "source": [
    "### d) \n",
    "Process the input data  by subtracting the mean (a.k.a. centralization) and dividing by the standard deviation (a.k.a. standardization) over each dimension (feature),  repeat the previous part and report the accuracy. Do centralization and standardization affect the accuracy? Why?"
   ]
  },
  {
   "cell_type": "code",
   "execution_count": 27,
   "metadata": {},
   "outputs": [
    {
     "data": {
      "text/plain": [
       "array([[-0.8354355 ,  2.45735903,  0.34674316, ...,  1.35224513,\n",
       "         2.78594417, -0.96569189],\n",
       "       [-0.54480808, -0.43719633,  0.24436264, ...,  0.17619533,\n",
       "        -0.1876381 , -0.88240283],\n",
       "       [ 0.03644676, -1.41253563, -0.36992051, ...,  0.22677812,\n",
       "        -0.22668514, -0.71582471],\n",
       "       ...,\n",
       "       [ 0.03644676,  0.66399321,  0.85864578, ...,  1.4913478 ,\n",
       "         0.53623395, -0.96569189],\n",
       "       [-0.25418066, -0.15403331,  0.24436264, ..., -0.74694053,\n",
       "        -1.07971278, -0.79911377],\n",
       "       [-0.8354355 , -0.43719633,  0.14198211, ..., -0.17788417,\n",
       "         1.06487079, -0.79911377]])"
      ]
     },
     "execution_count": 27,
     "metadata": {},
     "output_type": "execute_result"
    }
   ],
   "source": [
    "from sklearn import preprocessing\n",
    "scaler = preprocessing.StandardScaler().fit(X_train)\n",
    "scaler.transform(X_train)\n",
    "scaler.transform(X_test)\n"
   ]
  },
  {
   "cell_type": "code",
   "execution_count": 26,
   "metadata": {},
   "outputs": [
    {
     "name": "stdout",
     "output_type": "stream",
     "text": [
      "0.8051948051948052\n"
     ]
    }
   ],
   "source": [
    "knn.fit(scaler.transform(X_train),y_train)\n",
    "y_pred = knn.predict(scaler.transform(X_test))\n",
    "print(accuracy_score(y_test, y_pred))\n",
    "#The accuracy improved\n",
    "# We used scaling because without scaling the predictor variables may have significantly different ranges and, in certain situations, \n",
    "# such as when implementing k-NN, this needs to be mitigated so that certain features do not dominate the algorithm;\n",
    "    \n",
    "#Also features to be unit-independent, that is, not reliant on the scale of the measurement involved\n",
    "\n"
   ]
  },
  {
   "cell_type": "code",
   "execution_count": null,
   "metadata": {},
   "outputs": [],
   "source": []
  }
 ],
 "metadata": {
  "kernelspec": {
   "display_name": "Python 3",
   "language": "python",
   "name": "python3"
  },
  "language_info": {
   "codemirror_mode": {
    "name": "ipython",
    "version": 3
   },
   "file_extension": ".py",
   "mimetype": "text/x-python",
   "name": "python",
   "nbconvert_exporter": "python",
   "pygments_lexer": "ipython3",
   "version": "3.6.4"
  }
 },
 "nbformat": 4,
 "nbformat_minor": 2
}
